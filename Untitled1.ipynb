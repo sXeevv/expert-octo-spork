{
 "cells": [
  {
   "cell_type": "markdown",
   "id": "535bb528",
   "metadata": {},
   "source": [
    "# My Jupyter Notebook on IBM Watson Studio"
   ]
  },
  {
   "cell_type": "markdown",
   "id": "1d7e099d",
   "metadata": {},
   "source": [
    "**Stanisław Kubik"
   ]
  },
  {
   "cell_type": "markdown",
   "id": "b88d29f7",
   "metadata": {},
   "source": [
    "*I am interested in data science because I want to use it in economics. Most of the economic data is published in raw form, and in order to make sense out of it, one needs to know the data science."
   ]
  },
  {
   "cell_type": "markdown",
   "id": "b5df4a37",
   "metadata": {},
   "source": [
    "### The code below is supposed to assign the values to the variables a and b, and show their sum"
   ]
  },
  {
   "cell_type": "code",
   "execution_count": null,
   "id": "5c9b2ca9",
   "metadata": {},
   "outputs": [],
   "source": [
    "a = 1\n",
    "b = 2\n",
    "print(a+b)"
   ]
  },
  {
   "cell_type": "markdown",
   "id": "6a5f9560",
   "metadata": {},
   "source": [
    "| A | B |\n",
    "|---|---|\n",
    "| 1 | 2 |\n",
    "\n",
    "List\n",
    "- this\n",
    "- is\n",
    "- a list\n",
    "\n",
    "Numbered list\n",
    "1. First\n",
    "2. Second\n",
    "3. Third"
   ]
  }
 ],
 "metadata": {
  "kernelspec": {
   "display_name": "Python 3 (ipykernel)",
   "language": "python",
   "name": "python3"
  },
  "language_info": {
   "codemirror_mode": {
    "name": "ipython",
    "version": 3
   },
   "file_extension": ".py",
   "mimetype": "text/x-python",
   "name": "python",
   "nbconvert_exporter": "python",
   "pygments_lexer": "ipython3",
   "version": "3.10.4"
  }
 },
 "nbformat": 4,
 "nbformat_minor": 5
}
